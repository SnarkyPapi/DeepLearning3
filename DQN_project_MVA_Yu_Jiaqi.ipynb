{
  "nbformat": 4,
  "nbformat_minor": 0,
  "metadata": {
    "colab": {
      "name": "DQN_project_MVA.ipynb",
      "version": "0.3.2",
      "provenance": [],
      "collapsed_sections": []
    },
    "kernelspec": {
      "name": "python3",
      "display_name": "Python 3"
    }
  },
  "cells": [
    {
      "metadata": {
        "id": "pocYp1CG5NiE",
        "colab_type": "text"
      },
      "cell_type": "markdown",
      "source": [
        "**You may need to install [OpenCV](https://pypi.python.org/pypi/opencv-python) and [scikit-video](http://www.scikit-video.org/stable/).**"
      ]
    },
    {
      "metadata": {
        "id": "S_VRNofB5NiG",
        "colab_type": "code",
        "colab": {}
      },
      "cell_type": "code",
      "source": [
        "# !pip install scikit-video\n",
        "import keras\n",
        "import numpy as np\n",
        "import io\n",
        "import base64\n",
        "from IPython.display import HTML\n",
        "import skvideo.io\n",
        "import cv2\n",
        "import json\n",
        "\n",
        "from keras.models import Sequential,model_from_json\n",
        "from keras.layers.core import Dense\n",
        "from keras.optimizers import sgd\n",
        "from keras.layers import Conv2D, MaxPooling2D, Activation, AveragePooling2D,Reshape,BatchNormalization\n",
        "from keras.layers import Conv2D, MaxPooling2D, Activation, AveragePooling2D,Reshape,BatchNormalization, Flatten, Dropout\n",
        "import collections\n",
        "import random\n",
        "from collections import deque"
      ],
      "execution_count": 0,
      "outputs": []
    },
    {
      "metadata": {
        "id": "SZ5yqFDb6NVA",
        "colab_type": "code",
        "colab": {}
      },
      "cell_type": "code",
      "source": [
        ""
      ],
      "execution_count": 0,
      "outputs": []
    },
    {
      "metadata": {
        "id": "AnfEKrCO5NiN",
        "colab_type": "text"
      },
      "cell_type": "markdown",
      "source": [
        "# MiniProject #3: Deep Reinforcement Learning"
      ]
    },
    {
      "metadata": {
        "id": "6HxiJj935NiO",
        "colab_type": "text"
      },
      "cell_type": "markdown",
      "source": [
        "__Notations__: $E_p$ is the expectation under probability $p$. Please justify each of your answer and widely comment your code."
      ]
    },
    {
      "metadata": {
        "id": "Vk7X5qJs5NiP",
        "colab_type": "text"
      },
      "cell_type": "markdown",
      "source": [
        "# Context"
      ]
    },
    {
      "metadata": {
        "id": "2hWpkjX15NiR",
        "colab_type": "text"
      },
      "cell_type": "markdown",
      "source": [
        "In a reinforcement learning algorithm, we modelize each step $t$ as an action $a_t$ obtained from a state $s_t$, i.e. $\\{(a_{t},s_{t})_{t\\leq T}\\}$ having the Markov property. We consider a discount factor $\\gamma \\in [0,1]$ that ensures convergence. The goal is to find among all the policies $\\pi$, one that maximizes the expected reward:\n",
        "\n",
        "\\begin{equation*}\n",
        "R(\\pi)=\\sum_{t\\leq T}E_{p^{\\pi}}[\\gamma^t r(s_{t},a_{t})] \\> ,\n",
        "\\end{equation*}\n",
        "\n",
        "where: \n",
        "\\begin{equation*}p^{\\pi}(a_{0},a_{1},s_{1},...,a_{T},s_{T})=p(a_{0})\\prod_{t=1}^{T}\\pi(a_{t}|s_{t})p(s_{t+1}|s_{t},a_{t}) \\> .\n",
        "\\end{equation*}\n",
        "\n",
        "We note the $Q$-function:\n",
        "\n",
        "\\begin{equation*}Q^\\pi(s,a)=E_{p^{\\pi}}[\\sum_{t\\leq T}\\gamma^{t}r(s_{t},a_{t})|s_{0}=s,a_{0}=a] \\> .\n",
        "\\end{equation*}\n",
        "\n",
        "Thus, the optimal Q function is:\n",
        "\\begin{equation*}\n",
        "Q^*(s,a)=\\max_{\\pi}Q^\\pi(s,a) \\> .\n",
        "\\end{equation*}\n",
        "\n",
        "In this project, we will apply the deep reinforcement learning techniques to a simple game: an agent will have to learn from scratch a policy that will permit it maximizing a reward."
      ]
    },
    {
      "metadata": {
        "id": "iIyHO4Fd5NiS",
        "colab_type": "text"
      },
      "cell_type": "markdown",
      "source": [
        "## The environment, the agent and the game"
      ]
    },
    {
      "metadata": {
        "id": "NBZ2xEQc5NiU",
        "colab_type": "text"
      },
      "cell_type": "markdown",
      "source": [
        "### The environment"
      ]
    },
    {
      "metadata": {
        "id": "BbTuCvqG5NiV",
        "colab_type": "text"
      },
      "cell_type": "markdown",
      "source": [
        "```Environment``` is an abstract class that represents the states, rewards, and actions to obtain the new state."
      ]
    },
    {
      "metadata": {
        "id": "tkTIeO7i5NiW",
        "colab_type": "code",
        "colab": {}
      },
      "cell_type": "code",
      "source": [
        "class Environment(object):\n",
        "    def __init__(self):\n",
        "        '''\n",
        "        self.epsilon = epsilon\n",
        "        self.n_action = n_action\n",
        "        self.epsilon_min = epsilon_min\n",
        "        self.epsilon_decay = epsilon_decay\n",
        "        '''\n",
        "        pass\n",
        "\n",
        "    def act(self, act):\n",
        "        '''\n",
        "        if train:\n",
        "            if np.random.rand() <= self.epsilon:\n",
        "                a = np.random.randint(0, self.n_action, size=1)[0]\n",
        "            else:\n",
        "                a = self.learned_act(s)\n",
        "        else: # in some cases, this can improve the performance.. remove it if poor performances\n",
        "            a = self.learned_act(s)\n",
        "\n",
        "        return a\n",
        "        '''\n",
        "        \"\"\"\n",
        "        One can act on the environment and obtain its reaction:\n",
        "        - the new state\n",
        "        - the reward of the new state\n",
        "        - should we continue the game?\n",
        "\n",
        "        :return: state, reward, game_over\n",
        "        \"\"\"\n",
        "        pass\n",
        "\n",
        "\n",
        "    def reset(self):\n",
        "        \"\"\"\n",
        "        Reinitialize the environment to a random state and returns\n",
        "        the original state\n",
        "\n",
        "        :return: state\n",
        "        \"\"\"\n",
        "        pass\n",
        "    \n",
        "    def draw(self):\n",
        "        \"\"\"\n",
        "        Visualize in the console or graphically the current state\n",
        "        \"\"\"\n",
        "        pass"
      ],
      "execution_count": 0,
      "outputs": []
    },
    {
      "metadata": {
        "id": "Hy31iUse5Nia",
        "colab_type": "text"
      },
      "cell_type": "markdown",
      "source": [
        "The method ```act``` allows to act on the environment at a given state $s_t$ (stored internally), via action $a_t$. The method will return the new state $s_{t+1}$, the reward $r(s_{t},a_{t})$ and determines if $t\\leq T$ (*game_over*).\n",
        "\n",
        "The method ```reset``` simply reinitializes the environment to a random state $s_0$.\n",
        "\n",
        "The method ```draw``` displays the current state $s_t$ (this is useful to check the behavior of the Agent).\n",
        "\n",
        "We modelize $s_t$ as a tensor, while $a_t$ is an integer."
      ]
    },
    {
      "metadata": {
        "id": "G98Gl2gM5Nib",
        "colab_type": "text"
      },
      "cell_type": "markdown",
      "source": [
        "### The Agent"
      ]
    },
    {
      "metadata": {
        "id": "6kxbiKs35Nic",
        "colab_type": "text"
      },
      "cell_type": "markdown",
      "source": [
        "The goal of the ```Agent``` is to interact with the ```Environment``` by proposing actions $a_t$ obtained from a given state $s_t$ to attempt to maximize its __reward__ $r(s_t,a_t)$. We propose the following abstract class:"
      ]
    },
    {
      "metadata": {
        "id": "JlNK19rp5Nid",
        "colab_type": "code",
        "colab": {}
      },
      "cell_type": "code",
      "source": [
        "class Agent(object):\n",
        "    def __init__(self, epsilon=0.1, n_action=4):\n",
        "        self.epsilon = epsilon\n",
        "        self.n_action = n_action\n",
        "    \n",
        "    def set_epsilon(self,e):\n",
        "        self.epsilon = e\n",
        "        \n",
        "    def get_epsilon(self):\n",
        "        return self.epsilon\n",
        "\n",
        "    def act(self,s,train=True):\n",
        "        \"\"\" This function should return the next action to do:\n",
        "        an integer between 0 and 4 (not included) with a random exploration of epsilon\"\"\"\n",
        "        if train:\n",
        "            if np.random.rand() <= self.epsilon:\n",
        "                a = np.random.randint(0, self.n_action, size=1)[0]\n",
        "            else:\n",
        "                a = self.learned_act(s)\n",
        "        else: # in some cases, this can improve the performance.. remove it if poor performances\n",
        "            a = self.learned_act(s)\n",
        "\n",
        "        return a\n",
        "\n",
        "    def learned_act(self,s):\n",
        "        \"\"\" Act via the policy of the agent, from a given state s\n",
        "        it proposes an action a\"\"\"\n",
        "        pass\n",
        "\n",
        "    def reinforce(self, s, n_s, a, r, game_over_):\n",
        "        \"\"\" This function is the core of the learning algorithm. \n",
        "        It takes as an input the current state s_, the next state n_s_\n",
        "        the action a_ used to move from s_ to n_s_ and the reward r_.\n",
        "        \n",
        "        Its goal is to learn a policy.\n",
        "        \"\"\"\n",
        "        pass\n",
        "\n",
        "    def save(self):\n",
        "        \"\"\" This function returns basic stats if applicable: the\n",
        "        loss and/or the model\"\"\"\n",
        "        pass\n",
        "\n",
        "    def load(self):\n",
        "        \"\"\" This function allows to restore a model\"\"\"\n",
        "        pass"
      ],
      "execution_count": 0,
      "outputs": []
    },
    {
      "metadata": {
        "id": "F5ADJz-T5Nig",
        "colab_type": "text"
      },
      "cell_type": "markdown",
      "source": [
        "***\n",
        "__Question 1__:\n",
        "Explain the function act. Why is ```epsilon``` essential?"
      ]
    },
    {
      "metadata": {
        "id": "Oz-SzI9L5Nik",
        "colab_type": "text"
      },
      "cell_type": "markdown",
      "source": [
        "The function act() gives the action that the agent will do next. \n",
        "\n",
        "Without epsilon, the agent will always choose the best action leant from before, even there is a better option at the moment. With epsilon, the agent has a probability of epsilon that it acts randomly. This allows it to develop better actions.  Epsilon is used to balance exploration and exploitation.  \n",
        "\n",
        "\n"
      ]
    },
    {
      "metadata": {
        "id": "kQh2JQUq5Nin",
        "colab_type": "text"
      },
      "cell_type": "markdown",
      "source": [
        "***\n",
        "### The Game"
      ]
    },
    {
      "metadata": {
        "id": "fJvSoKdY5Nio",
        "colab_type": "text"
      },
      "cell_type": "markdown",
      "source": [
        "The ```Agent``` and the ```Environment``` work in an interlaced way as in the following (take some time to understand this code as it is the core of the project)\n",
        "\n",
        "```python\n",
        "\n",
        "```"
      ]
    },
    {
      "metadata": {
        "id": "YptAKoncgqVf",
        "colab_type": "code",
        "colab": {
          "base_uri": "https://localhost:8080/",
          "height": 263
        },
        "outputId": "1ef8eed8-e0b5-4e09-d2de-d9a3ed201ca6"
      },
      "cell_type": "code",
      "source": [
        "'''\n",
        "epoch = 300\n",
        "env = Environment()\n",
        "agent = Agent()\n",
        "\n",
        "\n",
        "# Number of won games\n",
        "score = 0\n",
        "loss = 0\n",
        "\n",
        "\n",
        "for e in range(epoch):\n",
        "    # At each epoch, we restart to a fresh game and get the initial state\n",
        "    state = env.reset()\n",
        "    # This assumes that the games will end\n",
        "    game_over = False\n",
        "\n",
        "    win = 0\n",
        "    lose = 0\n",
        "\n",
        "    while not game_over:\n",
        "        # The agent performs an action\n",
        "        action = agent.act(state)\n",
        "\n",
        "        # Apply an action to the environment, get the next state, the reward\n",
        "        # and if the games end\n",
        "        prev_state = state\n",
        "        try: \n",
        "          state, reward, game_over = env.act(action)\n",
        "        except: \n",
        "          print('error')\n",
        "        # Update the counters\n",
        "        if reward > 0:\n",
        "            win = win + reward\n",
        "        if reward < 0:\n",
        "            lose = lose -reward\n",
        "\n",
        "        # Apply the reinforcement strategy\n",
        "        loss = agent.reinforce(prev_state, state,  action, reward, game_over)\n",
        "\n",
        "    # Save as a mp4\n",
        "    if e % 10 == 0:\n",
        "        env.draw(e)\n",
        "\n",
        "    # Update stats\n",
        "    score += win-lose\n",
        "\n",
        "    print(\"Epoch {:03d}/{:03d} | Loss {:.4f} | Win/lose count {}/{} ({})\"\n",
        "          .format(e, epoch, loss, win, lose, win-lose))\n",
        "    agent.save()\n",
        "    '''"
      ],
      "execution_count": 51,
      "outputs": [
        {
          "output_type": "stream",
          "text": [
            "error\n"
          ],
          "name": "stdout"
        },
        {
          "output_type": "error",
          "ename": "NameError",
          "evalue": "ignored",
          "traceback": [
            "\u001b[0;31m---------------------------------------------------------------------------\u001b[0m",
            "\u001b[0;31mNameError\u001b[0m                                 Traceback (most recent call last)",
            "\u001b[0;32m<ipython-input-51-4173433b9a83>\u001b[0m in \u001b[0;36m<module>\u001b[0;34m()\u001b[0m\n\u001b[1;32m     31\u001b[0m           \u001b[0mprint\u001b[0m\u001b[0;34m(\u001b[0m\u001b[0;34m'error'\u001b[0m\u001b[0;34m)\u001b[0m\u001b[0;34m\u001b[0m\u001b[0;34m\u001b[0m\u001b[0m\n\u001b[1;32m     32\u001b[0m         \u001b[0;31m# Update the counters\u001b[0m\u001b[0;34m\u001b[0m\u001b[0;34m\u001b[0m\u001b[0;34m\u001b[0m\u001b[0m\n\u001b[0;32m---> 33\u001b[0;31m         \u001b[0;32mif\u001b[0m \u001b[0mreward\u001b[0m \u001b[0;34m>\u001b[0m \u001b[0;36m0\u001b[0m\u001b[0;34m:\u001b[0m\u001b[0;34m\u001b[0m\u001b[0;34m\u001b[0m\u001b[0m\n\u001b[0m\u001b[1;32m     34\u001b[0m             \u001b[0mwin\u001b[0m \u001b[0;34m=\u001b[0m \u001b[0mwin\u001b[0m \u001b[0;34m+\u001b[0m \u001b[0mreward\u001b[0m\u001b[0;34m\u001b[0m\u001b[0;34m\u001b[0m\u001b[0m\n\u001b[1;32m     35\u001b[0m         \u001b[0;32mif\u001b[0m \u001b[0mreward\u001b[0m \u001b[0;34m<\u001b[0m \u001b[0;36m0\u001b[0m\u001b[0;34m:\u001b[0m\u001b[0;34m\u001b[0m\u001b[0;34m\u001b[0m\u001b[0m\n",
            "\u001b[0;31mNameError\u001b[0m: name 'reward' is not defined"
          ]
        }
      ]
    },
    {
      "metadata": {
        "id": "tlvGg9R7mlSY",
        "colab_type": "code",
        "outputId": "e5c2c00d-6391-4776-ad92-17477efd103e",
        "colab": {
          "base_uri": "https://localhost:8080/",
          "height": 263
        }
      },
      "cell_type": "code",
      "source": [
        ""
      ],
      "execution_count": 0,
      "outputs": [
        {
          "output_type": "stream",
          "text": [
            "error\n"
          ],
          "name": "stdout"
        },
        {
          "output_type": "error",
          "ename": "NameError",
          "evalue": "ignored",
          "traceback": [
            "\u001b[0;31m---------------------------------------------------------------------------\u001b[0m",
            "\u001b[0;31mNameError\u001b[0m                                 Traceback (most recent call last)",
            "\u001b[0;32m<ipython-input-15-b8c6be62141e>\u001b[0m in \u001b[0;36m<module>\u001b[0;34m()\u001b[0m\n\u001b[1;32m     20\u001b[0m           \u001b[0mprint\u001b[0m\u001b[0;34m(\u001b[0m\u001b[0;34m'error'\u001b[0m\u001b[0;34m)\u001b[0m\u001b[0;34m\u001b[0m\u001b[0;34m\u001b[0m\u001b[0m\n\u001b[1;32m     21\u001b[0m         \u001b[0;31m# Update the counters\u001b[0m\u001b[0;34m\u001b[0m\u001b[0;34m\u001b[0m\u001b[0;34m\u001b[0m\u001b[0m\n\u001b[0;32m---> 22\u001b[0;31m         \u001b[0;32mif\u001b[0m \u001b[0mreward\u001b[0m \u001b[0;34m>\u001b[0m \u001b[0;36m0\u001b[0m\u001b[0;34m:\u001b[0m\u001b[0;34m\u001b[0m\u001b[0;34m\u001b[0m\u001b[0m\n\u001b[0m\u001b[1;32m     23\u001b[0m             \u001b[0mwin\u001b[0m \u001b[0;34m=\u001b[0m \u001b[0mwin\u001b[0m \u001b[0;34m+\u001b[0m \u001b[0mreward\u001b[0m\u001b[0;34m\u001b[0m\u001b[0;34m\u001b[0m\u001b[0m\n\u001b[1;32m     24\u001b[0m         \u001b[0;32mif\u001b[0m \u001b[0mreward\u001b[0m \u001b[0;34m<\u001b[0m \u001b[0;36m0\u001b[0m\u001b[0;34m:\u001b[0m\u001b[0;34m\u001b[0m\u001b[0;34m\u001b[0m\u001b[0m\n",
            "\u001b[0;31mNameError\u001b[0m: name 'reward' is not defined"
          ]
        }
      ]
    },
    {
      "metadata": {
        "id": "5wymNbiynHzd",
        "colab_type": "code",
        "outputId": "6b236be4-c272-4d80-e3dd-a2be3f636486",
        "colab": {
          "base_uri": "https://localhost:8080/",
          "height": 35
        }
      },
      "cell_type": "code",
      "source": [
        "# print(env.act(action))"
      ],
      "execution_count": 0,
      "outputs": [
        {
          "output_type": "stream",
          "text": [
            "None\n"
          ],
          "name": "stdout"
        }
      ]
    },
    {
      "metadata": {
        "id": "lgs3Ubpp5Nir",
        "colab_type": "text"
      },
      "cell_type": "markdown",
      "source": [
        "# The game, *eat cheese*"
      ]
    },
    {
      "metadata": {
        "id": "xRrXMmyl5Nit",
        "colab_type": "text"
      },
      "cell_type": "markdown",
      "source": [
        "A rat runs on an island and tries to eat as much as possible. The island is subdivided into $N\\times N$ cells, in which there are cheese (+0.5) and poisonous cells (-1). The rat has a visibility of 2 cells (thus it can see $5^2$ cells). The rat is given a time $T$ to accumulate as much food as possible. It can perform 4 actions: going up, down, left, right. \n",
        "\n",
        "The goal is to code an agent to solve this task that will learn by trial and error. We propose the following environment:"
      ]
    },
    {
      "metadata": {
        "id": "eUuQyJAW5Niu",
        "colab_type": "code",
        "colab": {}
      },
      "cell_type": "code",
      "source": [
        "class Environment(object):\n",
        "    def __init__(self, grid_size=10, max_time=500, temperature=0.1):\n",
        "        grid_size = grid_size+4\n",
        "        self.grid_size = grid_size\n",
        "        self.max_time = max_time\n",
        "        self.temperature = temperature\n",
        "\n",
        "        #board on which one plays\n",
        "        self.board = np.zeros((grid_size,grid_size))\n",
        "        self.position = np.zeros((grid_size,grid_size))\n",
        "\n",
        "        # coordinate of the cat\n",
        "        self.x = 0\n",
        "        self.y = 1\n",
        "\n",
        "        # self time\n",
        "        self.t = 0\n",
        "\n",
        "        self.scale=16\n",
        "\n",
        "        self.to_draw = np.zeros((max_time+2, grid_size*self.scale, grid_size*self.scale, 3))\n",
        "\n",
        "\n",
        "    def draw(self,e):\n",
        "        skvideo.io.vwrite(str(e) + '.mp4', self.to_draw)\n",
        "\n",
        "    def get_frame(self,t):\n",
        "        b = np.zeros((self.grid_size,self.grid_size,3))+128\n",
        "        b[self.board>0,0] = 256\n",
        "        b[self.board < 0, 2] = 256\n",
        "        b[self.x,self.y,:]=256\n",
        "        b[-2:,:,:]=0\n",
        "        b[:,-2:,:]=0\n",
        "        b[:2,:,:]=0\n",
        "        b[:,:2,:]=0\n",
        "        \n",
        "        b =  cv2.resize(b, None, fx=self.scale, fy=self.scale, interpolation=cv2.INTER_NEAREST)\n",
        "\n",
        "        self.to_draw[t,:,:,:]=b\n",
        "\n",
        "\n",
        "    def act(self, action):\n",
        "        \"\"\"This function returns the new state, reward and decides if the\n",
        "        game ends.\"\"\"\n",
        "\n",
        "        self.get_frame(int(self.t))\n",
        "\n",
        "        self.position = np.zeros((self.grid_size, self.grid_size))\n",
        "\n",
        "        self.position[0:2,:]= -1\n",
        "        self.position[:,0:2] = -1\n",
        "        self.position[-2:, :] = -1\n",
        "        self.position[-2:, :] = -1\n",
        "\n",
        "        self.position[self.x, self.y] = 1\n",
        "        if action == 0:\n",
        "            if self.x == self.grid_size-3:\n",
        "                self.x = self.x-1\n",
        "            else:\n",
        "                self.x = self.x + 1\n",
        "        elif action == 1:\n",
        "            if self.x == 2:\n",
        "                self.x = self.x+1\n",
        "            else:\n",
        "                self.x = self.x-1\n",
        "        elif action == 2:\n",
        "            if self.y == self.grid_size - 3:\n",
        "                self.y = self.y - 1\n",
        "            else:\n",
        "                self.y = self.y + 1\n",
        "        elif action == 3:\n",
        "            if self.y == 2:\n",
        "                self.y = self.y + 1\n",
        "            else:\n",
        "                self.y = self.y - 1\n",
        "        else:\n",
        "            RuntimeError('Error: action not recognized')\n",
        "\n",
        "        self.t = self.t + 1\n",
        "        reward = self.board[self.x, self.y]\n",
        "        self.board[self.x, self.y] = 0\n",
        "        game_over = self.t > self.max_time\n",
        "        state = np.concatenate((self.board.reshape(self.grid_size, self.grid_size,1),\n",
        "                        self.position.reshape(self.grid_size, self.grid_size,1)),axis=2)\n",
        "        state = state[self.x-2:self.x+3,self.y-2:self.y+3,:]\n",
        "\n",
        "        return state, reward, game_over\n",
        "\n",
        "    def reset(self):\n",
        "        \"\"\"This function resets the game and returns the initial state\"\"\"\n",
        "\n",
        "        self.x = np.random.randint(3, self.grid_size-3, size=1)[0]\n",
        "        self.y = np.random.randint(3, self.grid_size-3, size=1)[0]\n",
        "\n",
        "\n",
        "        bonus = 0.5*np.random.binomial(1,self.temperature,size=self.grid_size**2)\n",
        "        bonus = bonus.reshape(self.grid_size,self.grid_size)\n",
        "\n",
        "        malus = -1.0*np.random.binomial(1,self.temperature,size=self.grid_size**2)\n",
        "        malus = malus.reshape(self.grid_size, self.grid_size)\n",
        "\n",
        "        self.to_draw = np.zeros((self.max_time+2, self.grid_size*self.scale, self.grid_size*self.scale, 3))\n",
        "\n",
        "\n",
        "        malus[bonus>0]=0\n",
        "\n",
        "        self.board = bonus + malus\n",
        "\n",
        "        self.position = np.zeros((self.grid_size, self.grid_size))\n",
        "        self.position[0:2,:]= -1\n",
        "        self.position[:,0:2] = -1\n",
        "        self.position[-2:, :] = -1\n",
        "        self.position[-2:, :] = -1\n",
        "        self.board[self.x,self.y] = 0\n",
        "        self.t = 0\n",
        "\n",
        "        state = np.concatenate((\n",
        "                               self.board.reshape(self.grid_size, self.grid_size,1),\n",
        "                        self.position.reshape(self.grid_size, self.grid_size,1)),axis=2)\n",
        "\n",
        "        state = state[self.x - 2:self.x + 3, self.y - 2:self.y + 3, :]\n",
        "        return state"
      ],
      "execution_count": 0,
      "outputs": []
    },
    {
      "metadata": {
        "id": "jnFPZeaR5Nix",
        "colab_type": "text"
      },
      "cell_type": "markdown",
      "source": [
        "The following elements are important because they correspond to the hyper parameters for this project:"
      ]
    },
    {
      "metadata": {
        "id": "7gfl3W-w5Niy",
        "colab_type": "code",
        "colab": {}
      },
      "cell_type": "code",
      "source": [
        "# parameters\n",
        "size = 13\n",
        "T=200\n",
        "temperature=0.3\n",
        "epochs_train=20 # set small when debugging\n",
        "epochs_test=20 # set small when debugging\n",
        "\n",
        "# display videos\n",
        "def display_videos(name):\n",
        "    video = io.open(name, 'r+b').read()\n",
        "    encoded = base64.b64encode(video)\n",
        "    return '''<video alt=\"test\" controls>\n",
        "                <source src=\"data:video/mp4;base64,{0}\" type=\"video/mp4\" />\n",
        "             </video>'''.format(encoded.decode('ascii'))"
      ],
      "execution_count": 0,
      "outputs": []
    },
    {
      "metadata": {
        "id": "Ie5HR3_f5Ni2",
        "colab_type": "text"
      },
      "cell_type": "markdown",
      "source": [
        "__Question 2__ Explain the use of the arrays ```position``` and ```board```."
      ]
    },
    {
      "metadata": {
        "id": "GRWZM5ZM5Ni3",
        "colab_type": "text"
      },
      "cell_type": "markdown",
      "source": [
        "Array 'position' indicates the position of the mouse. All elements are 0 except the the element that indicates the position of the mouse is 1. \n",
        "\n",
        "Array 'board' indicates the board of the game. The values represents the reward of each position, either positive, zero or negative. "
      ]
    },
    {
      "metadata": {
        "id": "X7OhryZ35Ni4",
        "colab_type": "text"
      },
      "cell_type": "markdown",
      "source": [
        "## Random Agent"
      ]
    },
    {
      "metadata": {
        "id": "ZBlGoRJ15Ni5",
        "colab_type": "text"
      },
      "cell_type": "markdown",
      "source": [
        "***\n",
        "__Question 3__ Implement a random Agent (only ```learned_act``` needs to be implemented):"
      ]
    },
    {
      "metadata": {
        "id": "FgiHdnh15Ni7",
        "colab_type": "code",
        "colab": {}
      },
      "cell_type": "code",
      "source": [
        "class RandomAgent(Agent):\n",
        "    def __init__(self):\n",
        "        super(RandomAgent, self).__init__()\n",
        "        pass\n",
        "\n",
        "    def learned_act(self, s):\n",
        "        return np.random.randint(0,3)"
      ],
      "execution_count": 0,
      "outputs": []
    },
    {
      "metadata": {
        "id": "0yzVIxqO5Ni-",
        "colab_type": "text"
      },
      "cell_type": "markdown",
      "source": [
        "***\n",
        "***\n",
        "__Question 4__ Visualize the game moves. You need to fill in the following function for the evaluation:"
      ]
    },
    {
      "metadata": {
        "id": "XERLQRsp5Ni_",
        "colab_type": "code",
        "colab": {}
      },
      "cell_type": "code",
      "source": [
        "def test(agent,env,epochs,prefix=''):\n",
        "    \n",
        "    # Number of won games\n",
        "    score = 0\n",
        "    loss = 0\n",
        "\n",
        "    for e in range(epochs):\n",
        "        \n",
        "        ##### FILL IN HERE        \n",
        "        state = env.reset()\n",
        "        game_over = False\n",
        "\n",
        "        win = 0\n",
        "        lose = 0\n",
        "\n",
        "        while not game_over:\n",
        "            # The agent performs an action\n",
        "            action = agent.act(state)\n",
        "\n",
        "            prev_state = state\n",
        "            state, reward, game_over = env.act(action)\n",
        "\n",
        "            # Update the counters\n",
        "            if reward > 0:\n",
        "                win = win + reward\n",
        "            if reward < 0:\n",
        "                lose = lose -reward\n",
        "\n",
        "        # Save as a mp4\n",
        "        env.draw(prefix+str(e))\n",
        "\n",
        "        # Update stats\n",
        "        score = score + win-lose\n",
        "        \n",
        "        print(\"Win/lose count {:.2f}/{:.2f}. Average score ({:.2f})\"\n",
        "              .format(win, lose, score/(1+e)))\n",
        "    print('Final score: '+str(round(score/epochs,2)))"
      ],
      "execution_count": 0,
      "outputs": []
    },
    {
      "metadata": {
        "id": "mD5zYPdL5NjD",
        "colab_type": "code",
        "colab": {
          "base_uri": "https://localhost:8080/",
          "height": 670
        },
        "outputId": "9580e093-9101-43ac-c858-5f256f544d4e"
      },
      "cell_type": "code",
      "source": [
        "# Initialize the game\n",
        "env = Environment(grid_size=size, max_time=T,temperature=temperature)\n",
        "\n",
        "# Initialize the agent!\n",
        "agent = RandomAgent()\n",
        "\n",
        "test(agent,env,epochs_test,prefix='random')\n",
        "HTML(display_videos('random0.mp4'))"
      ],
      "execution_count": 76,
      "outputs": [
        {
          "output_type": "stream",
          "text": [
            "Win/lose count 6.00/7.00. Average score (-1.00)\n",
            "Win/lose count 9.00/7.00. Average score (0.50)\n",
            "Win/lose count 6.00/6.00. Average score (0.33)\n",
            "Win/lose count 3.00/7.00. Average score (-0.75)\n",
            "Win/lose count 5.50/8.00. Average score (-1.10)\n",
            "Win/lose count 4.00/10.00. Average score (-1.92)\n",
            "Win/lose count 5.00/4.00. Average score (-1.50)\n",
            "Win/lose count 6.00/7.00. Average score (-1.44)\n",
            "Win/lose count 4.00/10.00. Average score (-1.94)\n",
            "Win/lose count 7.00/10.00. Average score (-2.05)\n",
            "Win/lose count 3.00/9.00. Average score (-2.41)\n",
            "Win/lose count 3.50/5.00. Average score (-2.33)\n",
            "Win/lose count 2.00/13.00. Average score (-3.00)\n",
            "Win/lose count 4.50/10.00. Average score (-3.18)\n",
            "Win/lose count 3.50/12.00. Average score (-3.53)\n",
            "Win/lose count 6.50/9.00. Average score (-3.47)\n",
            "Win/lose count 4.00/7.00. Average score (-3.44)\n",
            "Win/lose count 3.50/3.00. Average score (-3.22)\n",
            "Win/lose count 5.00/5.00. Average score (-3.05)\n",
            "Win/lose count 1.50/2.00. Average score (-2.92)\n",
            "Final score: -2.92\n"
          ],
          "name": "stdout"
        },
        {
          "output_type": "execute_result",
          "data": {
            "text/html": [
              "<video alt=\"test\" controls>\n",
              "                <source src=\"data:video/mp4;base64,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\" type=\"video/mp4\" />\n",
              "             </video>"
            ],
            "text/plain": [
              "<IPython.core.display.HTML object>"
            ]
          },
          "metadata": {
            "tags": []
          },
          "execution_count": 76
        }
      ]
    },
    {
      "metadata": {
        "id": "bYtdyiC65NjJ",
        "colab_type": "text"
      },
      "cell_type": "markdown",
      "source": [
        "***\n",
        "## DQN"
      ]
    },
    {
      "metadata": {
        "id": "kBedMR5r5NjK",
        "colab_type": "text"
      },
      "cell_type": "markdown",
      "source": [
        "Let us assume here that $T=\\infty$.\n",
        "\n",
        "***\n",
        "__Question 5__ Let $\\pi$ be a policy, show that:\n",
        "\n",
        "\\begin{equation*}\n",
        "Q^{\\pi}(s,a)=E_{(s',a')\\sim p(.|s,a)}[r(s,a)+\\gamma Q^{\\pi}(s',a')]\n",
        "\\end{equation*}\n",
        "\n",
        "Then, show that for the optimal policy $\\pi^*$ (we assume its existence), the following holds: \n",
        "\n",
        "\\begin{equation*}\n",
        "Q^{*}(s,a)=E_{s'\\sim \\pi^*(.|s,a)}[r(s,a)+\\gamma\\max_{a'}Q^{*}(s',a')].\n",
        "\\end{equation*}\n",
        "Finally, deduce that a plausible objective is:\n",
        "\n",
        "\\begin{equation*}\n",
        "\\mathcal{L}(\\theta)=E_{s' \\sim \\pi^*(.|s,a)}\\Vert r+\\gamma\\max\\max_{a'}Q(s',a',\\theta)-Q(s,a,\\theta)\\Vert^{2}.\n",
        "\\end{equation*}\n",
        "\n",
        "\n"
      ]
    },
    {
      "metadata": {
        "id": "p71NwX805NjL",
        "colab_type": "text"
      },
      "cell_type": "markdown",
      "source": [
        "Please find the answer of this question in an uploaded file named 'DL3Q5.jpg'. "
      ]
    },
    {
      "metadata": {
        "id": "FY3-SmzU5NjM",
        "colab_type": "text"
      },
      "cell_type": "markdown",
      "source": [
        "***\n",
        "The DQN-learning algorithm relies on these derivations to train the parameters $\\theta$ of a Deep Neural Network:\n",
        "\n",
        "1. At the state $s_t$, select the action $a_t$ with best reward using $Q_t$ and store the results;\n",
        "\n",
        "2. Obtain the new state $s_{t+1}$ from the environment $p$;\n",
        "\n",
        "3. Store $(s_t,a_t,s_{t+1})$;\n",
        "\n",
        "4. Obtain $Q_{t+1}$ by minimizing  $\\mathcal{L}$ from a recovered batch from the previously stored results.\n",
        "\n",
        "***\n",
        "__Question 6__ Implement the class ```Memory``` that stores moves (in a replay buffer) via ```remember``` and provides a ```random_access``` to these. Specify a maximum memory size to avoid side effects. You can for example use a ```list()``` and set by default ```max_memory=100```."
      ]
    },
    {
      "metadata": {
        "id": "QY_fYdHE5NjN",
        "colab_type": "code",
        "colab": {}
      },
      "cell_type": "code",
      "source": [
        "class Memory(object):\n",
        "    def __init__(self, max_memory=100):\n",
        "        self.max_memory = max_memory\n",
        "        self.memory = list()\n",
        "\n",
        "    def remember(self, m):\n",
        "        self.memory.append(m)\n",
        "        self.memory = collections.deque(self.memory, maxlen=self.max_memory)\n",
        "        \n",
        "\n",
        "    def random_access(self):\n",
        "        return random.choice(self.memory)\n",
        "        "
      ],
      "execution_count": 0,
      "outputs": []
    },
    {
      "metadata": {
        "id": "o6bK7wue5NjT",
        "colab_type": "text"
      },
      "cell_type": "markdown",
      "source": [
        "***\n",
        "The pipeline we will use for training is given below:"
      ]
    },
    {
      "metadata": {
        "id": "LF96aHr35NjX",
        "colab_type": "code",
        "colab": {}
      },
      "cell_type": "code",
      "source": [
        "def train(agent,env,epoch,prefix=''):\n",
        "    # Number of won games\n",
        "    score = 0\n",
        "    loss = 0\n",
        "\n",
        "    for e in range(epoch):\n",
        "        # At each epoch, we restart to a fresh game and get the initial state\n",
        "        state = env.reset()\n",
        "        # This assumes that the games will terminate\n",
        "        game_over = False\n",
        "\n",
        "        win = 0\n",
        "        lose = 0\n",
        "\n",
        "        while not game_over:\n",
        "            # The agent performs an action\n",
        "            action = agent.act(state)\n",
        "\n",
        "            # Apply an action to the environment, get the next state, the reward\n",
        "            # and if the games end\n",
        "            prev_state = state\n",
        "            state, reward, game_over = env.act(action)\n",
        "\n",
        "            # Update the counters\n",
        "            if reward > 0:\n",
        "                win = win + reward\n",
        "            if reward < 0:\n",
        "                lose = lose -reward\n",
        "\n",
        "            # Apply the reinforcement strategy\n",
        "            loss = agent.reinforce(prev_state, state,  action, reward, game_over)\n",
        "\n",
        "        # Save as a mp4\n",
        "        if e % 10 == 0:\n",
        "            env.draw(prefix+str(e))\n",
        "\n",
        "        # Update stats\n",
        "        score += win-lose\n",
        "\n",
        "        print(\"Epoch {:03d}/{:03d} | Loss {:.4f} | Win/lose count {}/{} ({})\"\n",
        "              .format(e, epoch, loss, win, lose, win-lose))\n",
        "        agent.save(name_weights=prefix+'model.h5',name_model=prefix+'model.json')"
      ],
      "execution_count": 0,
      "outputs": []
    },
    {
      "metadata": {
        "id": "AzQ4UJhp5Njd",
        "colab_type": "text"
      },
      "cell_type": "markdown",
      "source": [
        "***\n",
        "__Question 7__ Implement the DQN training algorithm using a cascade of fully connected layers. You can use different learning rate, batch size or memory size parameters. In particular, the loss might oscillate while the player will start to win the games. You have to find a good criterium."
      ]
    },
    {
      "metadata": {
        "id": "ooVVhcxe5Nje",
        "colab_type": "code",
        "colab": {}
      },
      "cell_type": "code",
      "source": [
        "class DQN(Agent):\n",
        "    def __init__(self, grid_size,  epsilon = 0.1, memory_size=100, batch_size = 16,n_state=2):\n",
        "        super(DQN, self).__init__(epsilon = epsilon)\n",
        "\n",
        "        # Discount for Q learning\n",
        "        self.discount = 0.99\n",
        "        \n",
        "        self.grid_size = grid_size\n",
        "        \n",
        "        # number of state\n",
        "        self.n_state = n_state\n",
        "\n",
        "        # Memory\n",
        "        self.memory = Memory(memory_size)\n",
        "        \n",
        "        # Batch size when learning\n",
        "        self.batch_size = batch_size\n",
        "\n",
        "    def learned_act(self, s):\n",
        "        act_pred = self.model.predict(np.reshape(s, (1, 5, 5, self.n_state)))\n",
        "        \n",
        "        return np.argmax(act_pred[0])\n",
        "\n",
        "    def reinforce(self, s_, n_s_, a_, r_, game_over_):\n",
        "        # Two steps: first memorize the states, second learn from the pool\n",
        "\n",
        "        self.memory.remember([s_, n_s_, a_, r_, game_over_])\n",
        "        \n",
        "        input_states = np.zeros((self.batch_size, 5,5,self.n_state))\n",
        "        target_q = np.zeros((self.batch_size, 4))\n",
        "        \n",
        "        for i in range(self.batch_size):\n",
        "            ######## FILL IN\n",
        "            batch=self.memory.random_access()\n",
        "            input_states[i]=batch[0] # state observed in t; batch[1] is the state in t+1\n",
        "            game_over_=batch[4]\n",
        "            if game_over_:\n",
        "                ######## FILL IN\n",
        "                target_q[i, batch[2]] = batch[3]\n",
        "            else:\n",
        "                ######## FILL IN\n",
        "                x = np.reshape(batch[1], (1, 5, 5, self.n_state)) # get observered state in t+1\n",
        "                target_q[i, batch[2]] = batch[3] + self.discount * np.amax(self.model.predict(x))\n",
        "        ######## FILL IN\n",
        "        # HINT: Clip the target to avoid exploiding gradients.. -- clipping is a bit tighter\n",
        "        target_q = np.clip(target_q, -3, 3)\n",
        "\n",
        "        l = self.model.train_on_batch(input_states, target_q)\n",
        "\n",
        "\n",
        "        return l\n",
        "\n",
        "    def save(self,name_weights='model.h5',name_model='model.json'):\n",
        "        self.model.save_weights(name_weights, overwrite=True)\n",
        "        with open(name_model, \"w\") as outfile:\n",
        "            json.dump(self.model.to_json(), outfile)\n",
        "            \n",
        "    def load(self,name_weights='model.h5',name_model='model.json'):\n",
        "        with open(name_model, \"r\") as jfile:\n",
        "            model = model_from_json(json.load(jfile))\n",
        "        model.load_weights(name_weights)\n",
        "        model.compile(\"sgd\", \"mse\")\n",
        "        self.model = model\n",
        "\n",
        "            \n",
        "class DQN_FC(DQN):\n",
        "    def __init__(self, *args, lr=0.1,**kwargs):\n",
        "        super(DQN_FC, self).__init__( *args,**kwargs)\n",
        "        \n",
        "        # NN Model\n",
        "        \n",
        "        ####### FILL IN\n",
        "        model = Sequential()\n",
        "        model.add(Reshape((5*5*self.n_state,), input_shape=(5,5,self.n_state)))\n",
        "        model.add(Dense(24, input_dim=50, activation='relu'))\n",
        "        model.add(Dense(24, activation='relu'))\n",
        "        model.add(Dense(4, activation='linear')) # keep four or set var = 4?\n",
        "        model.compile(sgd(lr=lr, decay=1e-4, momentum=0.0), \"mse\")\n",
        "        self.model = model\n",
        "        "
      ],
      "execution_count": 0,
      "outputs": []
    },
    {
      "metadata": {
        "id": "WUEIzxXdpPeI",
        "colab_type": "code",
        "colab": {}
      },
      "cell_type": "code",
      "source": [
        ""
      ],
      "execution_count": 0,
      "outputs": []
    },
    {
      "metadata": {
        "id": "asJi34aN5Njk",
        "colab_type": "code",
        "colab": {
          "base_uri": "https://localhost:8080/",
          "height": 652
        },
        "outputId": "7f4a4f9a-e5e9-4039-ce86-488c906332cc"
      },
      "cell_type": "code",
      "source": [
        "env = Environment(grid_size=size, max_time=T, temperature=0.3)\n",
        "agent = DQN_FC(lr=0.1, grid_size=size, epsilon = 0.1, memory_size=2000, batch_size = 32)\n",
        "train(agent, env, epochs_train, prefix='fc_train')\n",
        "HTML(display_videos('fc_train0.mp4'))"
      ],
      "execution_count": 77,
      "outputs": [
        {
          "output_type": "stream",
          "text": [
            "Epoch 000/020 | Loss 0.0032 | Win/lose count 2.5/8.0 (-5.5)\n",
            "Epoch 001/020 | Loss 0.0095 | Win/lose count 8.0/8.0 (0.0)\n",
            "Epoch 002/020 | Loss 0.0102 | Win/lose count 6.5/10.0 (-3.5)\n",
            "Epoch 003/020 | Loss 0.0093 | Win/lose count 1.5/2.0 (-0.5)\n",
            "Epoch 004/020 | Loss 0.0042 | Win/lose count 3.0/6.0 (-3.0)\n",
            "Epoch 005/020 | Loss 0.0009 | Win/lose count 2.0/3.0 (-1.0)\n",
            "Epoch 006/020 | Loss 0.0222 | Win/lose count 4.5/3.0 (1.5)\n",
            "Epoch 007/020 | Loss 0.0081 | Win/lose count 2.5/5.0 (-2.5)\n",
            "Epoch 008/020 | Loss 0.0029 | Win/lose count 5.5/7.0 (-1.5)\n",
            "Epoch 009/020 | Loss 0.0074 | Win/lose count 1.5/9.0 (-7.5)\n",
            "Epoch 010/020 | Loss 0.0111 | Win/lose count 3.0/4.0 (-1.0)\n",
            "Epoch 011/020 | Loss 0.0059 | Win/lose count 4.0/5.0 (-1.0)\n",
            "Epoch 012/020 | Loss 0.0091 | Win/lose count 5.5/7.0 (-1.5)\n",
            "Epoch 013/020 | Loss 0.0009 | Win/lose count 5.5/4.0 (1.5)\n",
            "Epoch 014/020 | Loss 0.0045 | Win/lose count 1.5/5.0 (-3.5)\n",
            "Epoch 015/020 | Loss 0.0124 | Win/lose count 5.5/2.0 (3.5)\n",
            "Epoch 016/020 | Loss 0.0155 | Win/lose count 5.5/4.0 (1.5)\n",
            "Epoch 017/020 | Loss 0.0194 | Win/lose count 0.5/5.0 (-4.5)\n",
            "Epoch 018/020 | Loss 0.0074 | Win/lose count 8.0/9.0 (-1.0)\n",
            "Epoch 019/020 | Loss 0.0023 | Win/lose count 6.0/5.0 (1.0)\n"
          ],
          "name": "stdout"
        },
        {
          "output_type": "execute_result",
          "data": {
            "text/html": [
              "<video alt=\"test\" controls>\n",
              "                <source src=\"data:video/mp4;base64,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\" type=\"video/mp4\" />\n",
              "             </video>"
            ],
            "text/plain": [
              "<IPython.core.display.HTML object>"
            ]
          },
          "metadata": {
            "tags": []
          },
          "execution_count": 77
        }
      ]
    },
    {
      "metadata": {
        "id": "7NQtqvTq5Njn",
        "colab_type": "text"
      },
      "cell_type": "markdown",
      "source": [
        "***\n",
        "***\n",
        "__Question 8__ Implement the DQN training algorithm using a CNN (for example, 2 convolutional layers and one final fully connected layer)."
      ]
    },
    {
      "metadata": {
        "id": "PVQyPRE35Njo",
        "colab_type": "code",
        "colab": {}
      },
      "cell_type": "code",
      "source": [
        "class DQN_CNN(DQN):\n",
        "    def __init__(self, lr=0.1, *args,**kwargs):\n",
        "        super(DQN_CNN, self).__init__(*args,**kwargs)\n",
        "        \n",
        "        filters = 32\n",
        "        kernel_size = (2,2)\n",
        "        \n",
        "        model = Sequential()\n",
        "        model.add(Conv2D(filters, kernel_size, input_shape=(5,5,self.n_state), activation='relu'))\n",
        "        model.add(Conv2D(filters, kernel_size, activation='relu'))\n",
        "        model.add(Dropout(0.2))\n",
        "        model.add(Flatten())\n",
        "        model.add(Dense(4, activation='linear'))\n",
        "        #print(model.summary())\n",
        "        model.compile(sgd(lr=lr, decay=1e-4, momentum=0.0), \"mse\")\n",
        "        self.model = model"
      ],
      "execution_count": 0,
      "outputs": []
    },
    {
      "metadata": {
        "id": "jUUXTgxu5Nju",
        "colab_type": "code",
        "colab": {
          "base_uri": "https://localhost:8080/",
          "height": 377
        },
        "outputId": "31685814-3407-4748-fe38-9645e2e8d21a"
      },
      "cell_type": "code",
      "source": [
        "env = Environment(grid_size=size, max_time=T, temperature=0.3)\n",
        "agent = DQN_CNN(grid_size = size, epsilon = 0.1, memory_size=2000, batch_size = 32)\n",
        "train(agent,env,epochs_train,prefix='cnn_train')\n",
        "# HTML(display_videos('cnn_train10.mp4'))"
      ],
      "execution_count": 78,
      "outputs": [
        {
          "output_type": "stream",
          "text": [
            "Epoch 000/020 | Loss 0.0101 | Win/lose count 5.0/5.0 (0.0)\n",
            "Epoch 001/020 | Loss 0.0183 | Win/lose count 4.5/5.0 (-0.5)\n",
            "Epoch 002/020 | Loss 0.0042 | Win/lose count 4.0/4.0 (0.0)\n",
            "Epoch 003/020 | Loss 0.0129 | Win/lose count 6.5/1.0 (5.5)\n",
            "Epoch 004/020 | Loss 0.0053 | Win/lose count 7.0/6.0 (1.0)\n",
            "Epoch 005/020 | Loss 0.0075 | Win/lose count 2.5/2.0 (0.5)\n",
            "Epoch 006/020 | Loss 0.0144 | Win/lose count 2.5/3.0 (-0.5)\n",
            "Epoch 007/020 | Loss 0.0078 | Win/lose count 3.5/0 (3.5)\n",
            "Epoch 008/020 | Loss 0.0037 | Win/lose count 5.0/3.0 (2.0)\n",
            "Epoch 009/020 | Loss 0.0079 | Win/lose count 6.0/7.0 (-1.0)\n",
            "Epoch 010/020 | Loss 0.0078 | Win/lose count 3.0/3.0 (0.0)\n",
            "Epoch 011/020 | Loss 0.0054 | Win/lose count 2.0/0 (2.0)\n",
            "Epoch 012/020 | Loss 0.0006 | Win/lose count 4.0/3.0 (1.0)\n",
            "Epoch 013/020 | Loss 0.0035 | Win/lose count 3.0/4.0 (-1.0)\n",
            "Epoch 014/020 | Loss 0.0007 | Win/lose count 1.0/3.0 (-2.0)\n",
            "Epoch 015/020 | Loss 0.0068 | Win/lose count 3.5/2.0 (1.5)\n",
            "Epoch 016/020 | Loss 0.0023 | Win/lose count 1.0/0 (1.0)\n",
            "Epoch 017/020 | Loss 0.0027 | Win/lose count 2.0/3.0 (-1.0)\n",
            "Epoch 018/020 | Loss 0.0022 | Win/lose count 2.0/1.0 (1.0)\n",
            "Epoch 019/020 | Loss 0.0003 | Win/lose count 3.5/2.0 (1.5)\n"
          ],
          "name": "stdout"
        }
      ]
    },
    {
      "metadata": {
        "id": "719_DHRw5Njx",
        "colab_type": "text"
      },
      "cell_type": "markdown",
      "source": [
        "***\n",
        "***\n",
        "__Question 9__ Test both algorithms and compare their performances. Which issue(s) do you observe? Observe also different behaviors by changing the temperature."
      ]
    },
    {
      "metadata": {
        "id": "daJ8xJTt5Njy",
        "colab_type": "code",
        "colab": {
          "base_uri": "https://localhost:8080/",
          "height": 809
        },
        "outputId": "c7ff3414-eb93-448e-f79b-2820b1ed028e"
      },
      "cell_type": "code",
      "source": [
        "env = Environment(grid_size=size, max_time=T,temperature=0.3)\n",
        "agent_cnn = DQN_CNN(grid_size = size, epsilon = 0.1, memory_size=2000, batch_size = 32)\n",
        "agent_cnn.load(name_weights='cnn_trainmodel.h5',name_model='cnn_trainmodel.json')\n",
        "\n",
        "agent_fc = DQN_FC(size, lr=.1, epsilon = 0.1, memory_size=2000, batch_size = 32)\n",
        "agent_cnn.load(name_weights='fc_trainmodel.h5',name_model='fc_trainmodel.json')\n",
        "print('Test of the CNN') \n",
        "test(agent_cnn,env,epochs_test,prefix='cnn_test')\n",
        "print('Test of the FC')\n",
        "test(agent_fc,env,epochs_test,prefix='fc_test')"
      ],
      "execution_count": 79,
      "outputs": [
        {
          "output_type": "stream",
          "text": [
            "Test of the CNN\n",
            "Win/lose count 7.50/3.00. Average score (4.50)\n",
            "Win/lose count 2.50/3.00. Average score (2.00)\n",
            "Win/lose count 7.50/4.00. Average score (2.50)\n",
            "Win/lose count 5.50/5.00. Average score (2.00)\n",
            "Win/lose count 1.00/1.00. Average score (1.60)\n",
            "Win/lose count 7.00/4.00. Average score (1.83)\n",
            "Win/lose count 2.50/4.00. Average score (1.36)\n",
            "Win/lose count 2.00/5.00. Average score (0.81)\n",
            "Win/lose count 2.50/2.00. Average score (0.78)\n",
            "Win/lose count 4.50/1.00. Average score (1.05)\n",
            "Win/lose count 5.00/6.00. Average score (0.86)\n",
            "Win/lose count 3.00/2.00. Average score (0.88)\n",
            "Win/lose count 8.50/3.00. Average score (1.23)\n",
            "Win/lose count 7.50/4.00. Average score (1.39)\n",
            "Win/lose count 11.50/6.00. Average score (1.67)\n",
            "Win/lose count 5.50/4.00. Average score (1.66)\n",
            "Win/lose count 6.50/3.00. Average score (1.76)\n",
            "Win/lose count 4.00/1.00. Average score (1.83)\n",
            "Win/lose count 5.00/4.00. Average score (1.79)\n",
            "Win/lose count 5.00/3.00. Average score (1.80)\n",
            "Final score: 1.8\n",
            "Test of the FC\n",
            "Win/lose count 4.50/5.00. Average score (-0.50)\n",
            "Win/lose count 3.00/2.00. Average score (0.25)\n",
            "Win/lose count 5.00/2.00. Average score (1.17)\n",
            "Win/lose count 2.00/2.00. Average score (0.88)\n",
            "Win/lose count 3.50/3.00. Average score (0.80)\n",
            "Win/lose count 3.50/10.00. Average score (-0.42)\n",
            "Win/lose count 7.50/9.00. Average score (-0.57)\n",
            "Win/lose count 0.00/9.00. Average score (-1.62)\n",
            "Win/lose count 4.50/8.00. Average score (-1.83)\n",
            "Win/lose count 5.50/6.00. Average score (-1.70)\n",
            "Win/lose count 3.00/3.00. Average score (-1.55)\n",
            "Win/lose count 3.00/4.00. Average score (-1.50)\n",
            "Win/lose count 0.50/4.00. Average score (-1.65)\n",
            "Win/lose count 4.50/8.00. Average score (-1.79)\n",
            "Win/lose count 3.00/5.00. Average score (-1.80)\n",
            "Win/lose count 2.00/6.00. Average score (-1.94)\n",
            "Win/lose count 8.50/7.00. Average score (-1.74)\n",
            "Win/lose count 7.50/3.00. Average score (-1.39)\n",
            "Win/lose count 3.00/8.00. Average score (-1.58)\n",
            "Win/lose count 1.00/7.00. Average score (-1.80)\n",
            "Final score: -1.8\n"
          ],
          "name": "stdout"
        }
      ]
    },
    {
      "metadata": {
        "id": "DNK1eAqI5Nj1",
        "colab_type": "code",
        "colab": {}
      },
      "cell_type": "code",
      "source": [
        "# HTML(display_videos('cnn_test10.mp4'))"
      ],
      "execution_count": 0,
      "outputs": []
    },
    {
      "metadata": {
        "id": "anJH0r6o5Nj4",
        "colab_type": "code",
        "colab": {}
      },
      "cell_type": "code",
      "source": [
        "# HTML(display_videos('fc_test10.mp4'))"
      ],
      "execution_count": 0,
      "outputs": []
    },
    {
      "metadata": {
        "id": "OrGkhrdQ5Nj7",
        "colab_type": "text"
      },
      "cell_type": "markdown",
      "source": [
        "CNN agent performs better than FC agent. One issue is that there is volatility in the test results. Also, epsilon doesn't change which means as the agent learns he doesn't reduce the proportion of randomness in his game.\n",
        "\n",
        "The temperature corresponds to the parmater of the binomial distribution which determines the density of poison and cheese on the board. The higher the temperature, the higher the proportion of bonus and so the easier the game. "
      ]
    },
    {
      "metadata": {
        "id": "GGjeU21J5Nj8",
        "colab_type": "text"
      },
      "cell_type": "markdown",
      "source": [
        "***\n",
        "\n",
        "The algorithm tends to not explore the map which can be an issue. We propose two ideas in order to encourage exploration:\n",
        "1. Incorporating a decreasing $\\epsilon$-greedy exploration. You can use the method ```set_epsilon```\n",
        "2. Append via the environment a new state that describes if a cell has been visited or not\n",
        "\n",
        "***\n",
        "__Question 10__ Design a new ```train_explore``` function and environment class ```EnvironmentExploring``` to tackle the issue of exploration.\n",
        "\n"
      ]
    },
    {
      "metadata": {
        "id": "ULF7blzy5Nj8",
        "colab_type": "code",
        "colab": {}
      },
      "cell_type": "code",
      "source": [
        "def train_explore(agent,env,epoch,prefix=''):\n",
        "    # Number of won games\n",
        "    score = 0\n",
        "    loss = 0\n",
        "\n",
        "    \n",
        "    for e in range(epoch):\n",
        "        # At each epoch, we restart to a fresh game and get the initial state\n",
        "        state = env.reset()\n",
        "        # This assumes that the games will terminate\n",
        "        game_over = False\n",
        "\n",
        "        win = 0\n",
        "        lose = 0\n",
        "\n",
        "        while not game_over:\n",
        "            \n",
        "            # Add an epsilon\n",
        "            agent.set_epsilon(np.float(agent.get_epsilon())*0.995)\n",
        "            \n",
        "            # The agent performs an action\n",
        "            action = agent.act(state)\n",
        "\n",
        "            # Apply an action to the environment, get the next state, the reward\n",
        "            # and if the games end\n",
        "            prev_state = state\n",
        "            state, reward, game_over = env.act(action, train=True)\n",
        "\n",
        "            # Update the counters\n",
        "            if reward > 0:\n",
        "                win = win + reward\n",
        "            if reward < 0:\n",
        "                lose = lose - reward\n",
        "\n",
        "            # Apply the reinforcement strategy\n",
        "            loss = agent.reinforce(prev_state, state,  action, reward, game_over)\n",
        "            \n",
        "        # Save as a mp4       \n",
        "        env.draw(prefix+str(e))\n",
        "        \n",
        "        # Update stats\n",
        "        score += win-lose\n",
        "\n",
        "        print(\"Epoch {:03d}/{:03d} | Loss {:.4f} | Win/lose count {}/{} ({})\"\n",
        "              .format(e, epoch, loss, win, lose, win-lose))\n",
        "        agent.save(name_weights=prefix+'model.h5',name_model=prefix+'model.json')\n",
        "        \n",
        "    print('Final score: '+str(score/epoch))\n",
        "\n",
        "        \n",
        "class EnvironmentExploring(object):\n",
        "    def __init__(self, grid_size=10, max_time=500, temperature=0.1):\n",
        "        grid_size = grid_size + 4\n",
        "        self.grid_size = grid_size\n",
        "        self.max_time = max_time\n",
        "        self.temperature = temperature\n",
        "        \n",
        "        self.board = np.zeros([grid_size,grid_size])\n",
        "        self.position = np.zeros([grid_size,grid_size])\n",
        "        \n",
        "        # Add a malus position\n",
        "        self.malus_position = np.zeros([grid_size,grid_size])\n",
        "        \n",
        "        # coordinate of the rat\n",
        "        self.x = 0\n",
        "        self.y = 1\n",
        "        \n",
        "        # self time\n",
        "        self.t = 0\n",
        "        self.scale=16\n",
        "        self.to_draw = np.zeros((max_time+2, grid_size*self.scale, grid_size*self.scale, 3))\n",
        "        \n",
        "    def get_t(self):\n",
        "        return self.t\n",
        "    \n",
        "    def draw(self,e):\n",
        "        skvideo.io.vwrite(str(e) + '.mp4', self.to_draw)\n",
        "\n",
        "    def get_frame(self,t):\n",
        "        b = np.zeros((self.grid_size,self.grid_size,3))+128\n",
        "        b[self.board>0,0] = 256\n",
        "        b[self.board < 0, 2] = 256\n",
        "        b[self.x,self.y,:]=256\n",
        "        b[-2:,:,:]=0\n",
        "        b[:,-2:,:]=0\n",
        "        b[:2,:,:]=0\n",
        "        b[:,:2,:]=0\n",
        "        \n",
        "        b =  cv2.resize(b, None, fx=self.scale, fy=self.scale, interpolation=cv2.INTER_NEAREST)\n",
        "        self.to_draw[t,:,:,:]=b\n",
        "        \n",
        "    def act(self, action, train=True):\n",
        "        \"\"\"This function returns the new state, reward and decides if the\n",
        "        game ends.\"\"\"\n",
        "\n",
        "        self.get_frame(int(self.t))\n",
        "\n",
        "        self.position = np.zeros((self.grid_size, self.grid_size))\n",
        "\n",
        "        self.position[0:2,:]= -1\n",
        "        self.position[:,0:2] = -1\n",
        "        self.position[-2:, :] = -1\n",
        "        self.position[:, -2:] = -1\n",
        "\n",
        "        self.position[self.x, self.y] = 1\n",
        "        \n",
        "        if action == 0:\n",
        "            if self.x == self.grid_size-3:\n",
        "                self.x = self.x-1\n",
        "            else:\n",
        "                self.x = self.x + 1\n",
        "        elif action == 1:\n",
        "            if self.x == 2:\n",
        "                self.x = self.x+1\n",
        "            else:\n",
        "                self.x = self.x-1\n",
        "        elif action == 2:\n",
        "            if self.y == self.grid_size - 3:\n",
        "                self.y = self.y - 1\n",
        "            else:\n",
        "                self.y = self.y + 1\n",
        "        elif action == 3:\n",
        "            if self.y == 2:\n",
        "                self.y = self.y + 1\n",
        "            else:\n",
        "                self.y = self.y - 1\n",
        "        else:\n",
        "            RuntimeError('Error: action not recognized')\n",
        "        \n",
        "        self.t = self.t + 1\n",
        "        \n",
        "    ## In Environment exploring:\n",
        "        # You will have to change n_state to 3 because you will use one more layer!\n",
        "        reward = 0\n",
        "        if train:\n",
        "            reward -= self.malus_position[self.x, self.y]\n",
        "\n",
        "        self.malus_position[self.x, self.y] = 0.01\n",
        "        reward = reward + self.board[self.x, self.y]\n",
        "        self.board[self.x, self.y] = 0\n",
        "        game_over = self.t > self.max_time\n",
        "\n",
        "        # 3 \"feature\" states instead of 2\n",
        "        state = np.concatenate((self.malus_position.reshape(self.grid_size, self.grid_size,1),\n",
        "                                self.board.reshape(self.grid_size, self.grid_size,1),\n",
        "                                self.position.reshape(self.grid_size, self.grid_size,1)),axis=2)\n",
        "        \n",
        "        state = state[self.x-2:self.x+3,self.y-2:self.y+3,:]\n",
        "        \n",
        "        return state, reward, game_over\n",
        "    \n",
        "    def reset(self):\n",
        "        \"\"\"This function resets the game and returns the initial state\"\"\"\n",
        "\n",
        "        self.x = np.random.randint(3, self.grid_size-3, size=1)[0]\n",
        "        self.y = np.random.randint(3, self.grid_size-3, size=1)[0]\n",
        "\n",
        "\n",
        "        bonus = 0.5*np.random.binomial(1,self.temperature,size=self.grid_size**2)\n",
        "        bonus = bonus.reshape(self.grid_size,self.grid_size)\n",
        "\n",
        "        malus = -1.0*np.random.binomial(1,self.temperature,size=self.grid_size**2)\n",
        "        malus = malus.reshape(self.grid_size, self.grid_size)\n",
        "\n",
        "        self.to_draw = np.zeros((self.max_time+2, self.grid_size*self.scale, self.grid_size*self.scale, 3))\n",
        "        \n",
        "        malus[bonus>0]=0\n",
        "\n",
        "        self.board = bonus + malus\n",
        "\n",
        "        self.position = np.zeros((self.grid_size, self.grid_size))\n",
        "        self.position[0:2,:]= -1\n",
        "        self.position[:,0:2] = -1\n",
        "        self.position[-2:, :] = -1\n",
        "        self.position[:, -2:] = -1\n",
        "        self.board[self.x,self.y] = 0\n",
        "        self.malus_position[self.x, self.y] = 0\n",
        "\n",
        "        self.t = 0\n",
        "\n",
        "        state = np.concatenate((self.malus_position.reshape(self.grid_size, self.grid_size,1),\n",
        "                                self.board.reshape(self.grid_size, self.grid_size,1),\n",
        "                                self.position.reshape(self.grid_size, self.grid_size,1)),axis=2)\n",
        "\n",
        "        state = state[self.x - 2:self.x + 3, self.y - 2:self.y + 3, :]\n",
        "        \n",
        "        return state"
      ],
      "execution_count": 0,
      "outputs": []
    },
    {
      "metadata": {
        "id": "BAGjpCv05NkB",
        "colab_type": "code",
        "colab": {
          "base_uri": "https://localhost:8080/",
          "height": 395
        },
        "outputId": "9974a619-90fd-474a-8fed-df4e1125da15"
      },
      "cell_type": "code",
      "source": [
        "# Training\n",
        "env = EnvironmentExploring(grid_size=size, max_time=T, temperature=0.3)\n",
        "agent = DQN_CNN(grid_size = size, epsilon = 0.1, memory_size=2000, batch_size = 32,n_state=3)\n",
        "train_explore(agent, env, epochs_train, prefix='cnn_train_explore')\n",
        "# HTML(display_videos('cnn_train_explore10.mp4'))"
      ],
      "execution_count": 81,
      "outputs": [
        {
          "output_type": "stream",
          "text": [
            "Epoch 000/020 | Loss 0.0080 | Win/lose count 2.0/6.819999999999964 (-4.819999999999964)\n",
            "Epoch 001/020 | Loss 0.0027 | Win/lose count 3.98/4.89999999999996 (-0.9199999999999604)\n",
            "Epoch 002/020 | Loss 0.0049 | Win/lose count 3.5/2.7899999999999987 (0.7100000000000013)\n",
            "Epoch 003/020 | Loss 0.0026 | Win/lose count 1.49/1.9500000000000015 (-0.4600000000000015)\n",
            "Epoch 004/020 | Loss 0.0130 | Win/lose count 1.97/5.909999999999979 (-3.939999999999979)\n",
            "Epoch 005/020 | Loss 0.0082 | Win/lose count 1.49/2.939999999999981 (-1.4499999999999809)\n",
            "Epoch 006/020 | Loss 0.0004 | Win/lose count 1.98/1.9400000000000015 (0.03999999999999848)\n",
            "Epoch 007/020 | Loss 0.0022 | Win/lose count 0.98/1.9700000000000015 (-0.9900000000000015)\n",
            "Epoch 008/020 | Loss 0.0026 | Win/lose count 0.5/1.9900000000000015 (-1.4900000000000015)\n",
            "Epoch 009/020 | Loss 0.0022 | Win/lose count 1.48/3.9499999999999806 (-2.4699999999999807)\n",
            "Epoch 010/020 | Loss 0.0002 | Win/lose count 0.5/2.97999999999998 (-2.47999999999998)\n",
            "Epoch 011/020 | Loss 0.0002 | Win/lose count 0.49/1.9900000000000015 (-1.5000000000000016)\n",
            "Epoch 012/020 | Loss 0.0001 | Win/lose count 1.98/2.9499999999999806 (-0.9699999999999807)\n",
            "Epoch 013/020 | Loss 0.0003 | Win/lose count 0.99/2.929999999999981 (-1.939999999999981)\n",
            "Epoch 014/020 | Loss 0.0002 | Win/lose count 1.48/1.9800000000000015 (-0.5000000000000016)\n",
            "Epoch 015/020 | Loss 0.0019 | Win/lose count 0.99/4.899999999999966 (-3.9099999999999655)\n",
            "Epoch 016/020 | Loss 0.0094 | Win/lose count 0.5/1.9900000000000015 (-1.4900000000000015)\n",
            "Epoch 017/020 | Loss 0.0022 | Win/lose count 0.49/6.979999999999958 (-6.489999999999958)\n",
            "Epoch 018/020 | Loss 0.0002 | Win/lose count 4.420000000000001/5.889999999999961 (-1.4699999999999598)\n",
            "Epoch 019/020 | Loss 0.0001 | Win/lose count 2.0/2.889999999999982 (-0.8899999999999819)\n",
            "Final score: -1.8714999999999837\n"
          ],
          "name": "stdout"
        }
      ]
    },
    {
      "metadata": {
        "id": "c4OD5cGT5NkF",
        "colab_type": "code",
        "colab": {
          "base_uri": "https://localhost:8080/",
          "height": 395
        },
        "outputId": "324f8e0e-a840-4810-c8ea-c96e29294f0b"
      },
      "cell_type": "code",
      "source": [
        "# Evaluation\n",
        "test(agent,env,epochs_test,prefix='cnn_test_explore')\n",
        "# HTML(display_videos('cnn_test_explore10.mp4'))"
      ],
      "execution_count": 82,
      "outputs": [
        {
          "output_type": "stream",
          "text": [
            "Win/lose count 2.96/1.93. Average score (1.03)\n",
            "Win/lose count 0.00/2.01. Average score (-0.49)\n",
            "Win/lose count 0.99/2.98. Average score (-0.99)\n",
            "Win/lose count 0.49/2.00. Average score (-1.12)\n",
            "Win/lose count 3.92/2.92. Average score (-0.70)\n",
            "Win/lose count 1.47/1.98. Average score (-0.66)\n",
            "Win/lose count 0.98/1.99. Average score (-0.71)\n",
            "Win/lose count 3.48/2.93. Average score (-0.56)\n",
            "Win/lose count 0.98/2.97. Average score (-0.72)\n",
            "Win/lose count 0.49/1.99. Average score (-0.79)\n",
            "Win/lose count 0.98/1.99. Average score (-0.81)\n",
            "Win/lose count 4.93/8.91. Average score (-1.08)\n",
            "Win/lose count 0.49/2.00. Average score (-1.11)\n",
            "Win/lose count 0.00/2.99. Average score (-1.24)\n",
            "Win/lose count 0.00/2.00. Average score (-1.30)\n",
            "Win/lose count 2.94/1.95. Average score (-1.15)\n",
            "Win/lose count 1.47/2.98. Average score (-1.17)\n",
            "Win/lose count 0.00/2.00. Average score (-1.22)\n",
            "Win/lose count 0.00/2.00. Average score (-1.26)\n",
            "Win/lose count 2.96/3.95. Average score (-1.25)\n",
            "Final score: -1.25\n"
          ],
          "name": "stdout"
        }
      ]
    },
    {
      "metadata": {
        "id": "2KCt5LpN5NkI",
        "colab_type": "text"
      },
      "cell_type": "markdown",
      "source": [
        "***\n",
        "***\n",
        "__BONUS question__ Use the expert DQN from the previous question to generate some winning games. Train a model that mimicks its behavior. Compare the performances."
      ]
    },
    {
      "metadata": {
        "id": "iAZASkwS5NkJ",
        "colab_type": "text"
      },
      "cell_type": "markdown",
      "source": [
        ""
      ]
    },
    {
      "metadata": {
        "id": "_Ziek6Mo5NkK",
        "colab_type": "text"
      },
      "cell_type": "markdown",
      "source": [
        "***"
      ]
    }
  ]
}